{
  "cells": [
    {
      "cell_type": "markdown",
      "metadata": {
        "id": "67tBUdaVrCwc"
      },
      "source": [
        "###### Assessment"
      ]
    },
    {
      "cell_type": "markdown",
      "metadata": {
        "id": "D5twnK6UrCwe"
      },
      "source": [
        "###### I am going to provide two .csv files , you are supposed to work on them and have to provide solutions to the following problems"
      ]
    },
    {
      "cell_type": "markdown",
      "metadata": {
        "id": "p_sYMAGWrCwe"
      },
      "source": [
        "###### import necessary libraries"
      ]
    },
    {
      "cell_type": "code",
      "execution_count": null,
      "metadata": {
        "id": "0edcg7ZbrCwf"
      },
      "outputs": [],
      "source": [
        "import pandas as pd"
      ]
    },
    {
      "cell_type": "markdown",
      "metadata": {
        "id": "BVw6ldiqrCwf"
      },
      "source": [
        "###### merge those two csv files (after getting as dataframes, get them as a single dataframe)"
      ]
    },
    {
      "cell_type": "code",
      "execution_count": null,
      "metadata": {
        "id": "pV_5ZNhcrCwg"
      },
      "outputs": [],
      "source": [
        "from google.colab import files\n",
        "files.upload()"
      ]
    },
    {
      "cell_type": "code",
      "source": [
        "from google.colab import files\n",
        "files.upload()"
      ],
      "metadata": {
        "id": "8zdOzldPtvgG"
      },
      "execution_count": null,
      "outputs": []
    },
    {
      "cell_type": "code",
      "source": [
        "df1=pd.read_csv(\"/content/college_1.csv\")\n",
        "df1"
      ],
      "metadata": {
        "id": "wKrdH8pftwLh"
      },
      "execution_count": null,
      "outputs": []
    },
    {
      "cell_type": "code",
      "source": [
        "df2=pd.read_csv(\"/content/college_2.csv\")\n",
        "df2\n"
      ],
      "metadata": {
        "id": "PAq1tZh5tzrp"
      },
      "execution_count": null,
      "outputs": []
    },
    {
      "cell_type": "code",
      "source": [
        "DF = pd.concat([df1,df2])"
      ],
      "metadata": {
        "id": "XZ-iu96Wt4S1"
      },
      "execution_count": null,
      "outputs": []
    },
    {
      "cell_type": "code",
      "source": [
        "DF"
      ],
      "metadata": {
        "id": "7yA7ZI_Ct6U7"
      },
      "execution_count": null,
      "outputs": []
    },
    {
      "cell_type": "markdown",
      "metadata": {
        "id": "tTkWGkLVrCwg"
      },
      "source": [
        "###### Take each csv file , split that csv file into multiple categories (example csv files are added in the repo) \n"
      ]
    },
    {
      "cell_type": "markdown",
      "metadata": {
        "id": "Hxs09OPTrCwh"
      },
      "source": [
        "###### consider if the codekata score exceeds 15000 points(present week) then make a csv on those observations as Exceeded expectations.csv\n"
      ]
    },
    {
      "cell_type": "markdown",
      "metadata": {
        "id": "TLwjSgywrCwh"
      },
      "source": [
        "###### if  10000<codekata score<15000   (Reached_expectations.csv)\n",
        "\n"
      ]
    },
    {
      "cell_type": "markdown",
      "metadata": {
        "id": "sJv631CErCwh"
      },
      "source": [
        "###### if  7000<codekata score<10000   (Needs_Improvement.csv)\n"
      ]
    },
    {
      "cell_type": "markdown",
      "metadata": {
        "id": "8PQguynlrCwi"
      },
      "source": [
        "###### if  codekate score < 7000        (Unsatisfactory.csv)"
      ]
    },
    {
      "cell_type": "code",
      "execution_count": null,
      "metadata": {
        "id": "vgoK2UlzrCwi"
      },
      "outputs": [],
      "source": [
        "Exceededexpectations=DF[DF[\"CodeKata Score\"]>15000]\n",
        "Exceededexpectations\n",
        "Exceededexpectations.to_csv(\"Exceededexpectations.csv\")"
      ]
    },
    {
      "cell_type": "code",
      "execution_count": null,
      "metadata": {
        "id": "RQG128lprCwj"
      },
      "outputs": [],
      "source": [
        "Reachedexpectations=DF[(DF[\"CodeKata Score\"]<15000) & (DF[\"CodeKata Score\"]>10000)]\n",
        "Reachedexpectations\n",
        "Reachedexpectations.to_csv(\"Reached_expectations.csv\")"
      ]
    },
    {
      "cell_type": "code",
      "source": [
        "NeedsImprovement=DF[(DF[\"CodeKata Score\"]<10000) & (DF[\"CodeKata Score\"]>7000)]\n",
        "NeedsImprovement\n",
        "NeedsImprovement.to_csv(\"Needs_Improvement.csv\")"
      ],
      "metadata": {
        "id": "dzl_VAM0uG5O"
      },
      "execution_count": null,
      "outputs": []
    },
    {
      "cell_type": "code",
      "source": [
        "Unsatisfactory=DF[DF[\"CodeKata Score\"]<7000]\n",
        "Unsatisfactory\n",
        "Unsatisfactory.to_csv(\"Unsatisfactory.csv\")"
      ],
      "metadata": {
        "id": "bpRFg98AuPYF"
      },
      "execution_count": null,
      "outputs": []
    },
    {
      "cell_type": "markdown",
      "metadata": {
        "id": "n_7qzCBmrCwj"
      },
      "source": [
        "###### Average of previous week geekions vs this week geekions (i.e Previous Geekions vs CodeKata Score)"
      ]
    },
    {
      "cell_type": "code",
      "execution_count": null,
      "metadata": {
        "id": "SWFzl3ePrCwj"
      },
      "outputs": [],
      "source": [
        "DF[\"Previous Geekions\"].agg(['mean'])"
      ]
    },
    {
      "cell_type": "code",
      "source": [
        "DF[\"CodeKata Score\"].agg(['mean'])"
      ],
      "metadata": {
        "id": "gqy7xO7yv9NP"
      },
      "execution_count": null,
      "outputs": []
    },
    {
      "cell_type": "markdown",
      "metadata": {
        "id": "7dYNT4nerCwj"
      },
      "source": [
        "###### No of students participated "
      ]
    },
    {
      "cell_type": "code",
      "execution_count": null,
      "metadata": {
        "id": "BTy0L_XnrCwj"
      },
      "outputs": [],
      "source": [
        "DF[\"Name\"].agg(['count'])"
      ]
    },
    {
      "cell_type": "markdown",
      "metadata": {
        "id": "cmItYYI8rCwk"
      },
      "source": [
        "###### #Average completion of python course or my_sql or python english or computational thinking"
      ]
    },
    {
      "cell_type": "code",
      "execution_count": null,
      "metadata": {
        "id": "vY8XfecTrCwk"
      },
      "outputs": [],
      "source": [
        "DF[\"python\"].agg(['mean'])"
      ]
    },
    {
      "cell_type": "code",
      "source": [
        "DF[\"mysql\"].agg(['mean'])"
      ],
      "metadata": {
        "id": "1O5Bh42IwIb_"
      },
      "execution_count": null,
      "outputs": []
    },
    {
      "cell_type": "code",
      "source": [
        "DF[\"python_en\"].agg(['mean'])"
      ],
      "metadata": {
        "id": "cbYNgOTlwNOj"
      },
      "execution_count": null,
      "outputs": []
    },
    {
      "cell_type": "code",
      "source": [
        "DF[\"computational_thinking\"].agg(['mean'])"
      ],
      "metadata": {
        "id": "Tdwh-SXKwPKH"
      },
      "execution_count": null,
      "outputs": []
    },
    {
      "cell_type": "markdown",
      "metadata": {
        "id": "p7tE2d2ZrCwk"
      },
      "source": [
        "###### rising star of the week (top 3 candidate who performed well in that particular week)"
      ]
    },
    {
      "cell_type": "code",
      "execution_count": null,
      "metadata": {
        "id": "Bs4cRcBerCwk"
      },
      "outputs": [],
      "source": [
        "DF_Descending_Rising=DF.sort_values(by=[\"Rising\"],ascending=False)\n",
        "DF_Descending_Rising.head(3)"
      ]
    },
    {
      "cell_type": "markdown",
      "metadata": {
        "id": "6j2uKC8prCwl"
      },
      "source": [
        "###### Shining stars of the week (top 3 candidates who has highest geekions)"
      ]
    },
    {
      "cell_type": "code",
      "execution_count": null,
      "metadata": {
        "id": "P-16ZLourCwl"
      },
      "outputs": [],
      "source": [
        "DF_Descending_Geekions=DF.sort_values(by=[\"Previous Geekions\"],ascending=False)\n",
        "DF_Descending_Geekions.head(3)"
      ]
    },
    {
      "cell_type": "markdown",
      "metadata": {
        "id": "oSOntby3rCwl"
      },
      "source": [
        "###### Department wise codekata performence (pie chart)"
      ]
    },
    {
      "cell_type": "code",
      "execution_count": null,
      "metadata": {
        "id": "5JlyXYdUrCwl"
      },
      "outputs": [],
      "source": [
        "import plotly.express as px"
      ]
    },
    {
      "cell_type": "code",
      "source": [
        "fig=px.pie(values=df1[\"CodeKata Score\"],names=df1[\"Department\"])\n",
        "fig.show()"
      ],
      "metadata": {
        "id": "_MqKW-qVwW12"
      },
      "execution_count": null,
      "outputs": []
    },
    {
      "cell_type": "markdown",
      "metadata": {
        "id": "Q8sol8gQrCwl"
      },
      "source": [
        "###### Department wise toppers (horizantal bar graph or any visual representations of your choice)"
      ]
    },
    {
      "cell_type": "code",
      "execution_count": null,
      "metadata": {
        "id": "tKOH2ckDrCwm"
      },
      "outputs": [],
      "source": [
        "import matplotlib.pyplot as plt"
      ]
    },
    {
      "cell_type": "code",
      "execution_count": null,
      "metadata": {
        "id": "uuG0UxwkrCwm"
      },
      "outputs": [],
      "source": [
        "Computer_Science_and_Engineering=DF[DF[\"Department\"]==\"Computer Science and Engineering\"]\n",
        "Computer_Science_and_Engineering.sort_values(by=[\"CodeKata Score\"],ascending=False)\n",
        "DF_CSE=Computer_Science_and_Engineering.head(3)\n",
        "DF_CSE"
      ]
    },
    {
      "cell_type": "code",
      "execution_count": null,
      "metadata": {
        "id": "cdnTiRKtrCwm"
      },
      "outputs": [],
      "source": [
        "plt.barh(DF_CSE[\"Name\"],DF_CSE[\"CodeKata Score\"],height=0.5)\n",
        "plt.xlabel(\"CodeKata Score\")\n",
        "plt.ylabel(\"Name\")\n",
        "plt.title(\"Computer Science and Engineering\")\n",
        "plt.show()"
      ]
    },
    {
      "cell_type": "code",
      "execution_count": null,
      "metadata": {
        "id": "LPviIZ6yrCwm"
      },
      "outputs": [],
      "source": [
        "Electronics_and_Electrical_Engineering=DF[DF[\"Department\"]==\"Electronics and Electrical Engineering\"]\n",
        "Electronics_and_Electrical_Engineering.sort_values(by=[\"CodeKata Score\"],ascending=False)\n",
        "DF_EEE=Electronics_and_Electrical_Engineering.head(3)\n",
        "DF_EEE"
      ]
    },
    {
      "cell_type": "code",
      "source": [
        "plt.barh(DF_EEE[\"Name\"],DF_EEE[\"CodeKata Score\"],height=0.5)\n",
        "plt.xlabel(\"CodeKata Score\")\n",
        "plt.ylabel(\"Name\")\n",
        "plt.title(\"Electronics and Electrical Engineering\")\n",
        "plt.show()"
      ],
      "metadata": {
        "id": "bf5dcdpdwkXS"
      },
      "execution_count": null,
      "outputs": []
    },
    {
      "cell_type": "code",
      "source": [
        "Electronics_and_Communication_Engineering=DF[DF[\"Department\"]==\"Electronics and Communication Engineering\"]\n",
        "Electronics_and_Communication_Engineering.sort_values(by=[\"CodeKata Score\"],ascending=False)\n",
        "DF_ECE=Electronics_and_Communication_Engineering.head(3)\n",
        "DF_ECE"
      ],
      "metadata": {
        "id": "Q3BQY2FGwm3k"
      },
      "execution_count": null,
      "outputs": []
    },
    {
      "cell_type": "code",
      "source": [
        "plt.barh(DF_ECE[\"Name\"],DF_ECE[\"CodeKata Score\"],height=0.5)\n",
        "plt.xlabel(\"CodeKata Score\")\n",
        "plt.ylabel(\"Name\")\n",
        "plt.title(\"Electronics and Communication Engineering\")\n",
        "plt.show()"
      ],
      "metadata": {
        "id": "Wx2kgt2swpH3"
      },
      "execution_count": null,
      "outputs": []
    },
    {
      "cell_type": "code",
      "source": [
        ""
      ],
      "metadata": {
        "id": "qlE53syXwui9"
      },
      "execution_count": null,
      "outputs": []
    },
    {
      "cell_type": "code",
      "source": [
        ""
      ],
      "metadata": {
        "id": "_WT9-saUwxY-"
      },
      "execution_count": null,
      "outputs": []
    }
  ],
  "metadata": {
    "kernelspec": {
      "display_name": "Python 3",
      "language": "python",
      "name": "python3"
    },
    "language_info": {
      "codemirror_mode": {
        "name": "ipython",
        "version": 3
      },
      "file_extension": ".py",
      "mimetype": "text/x-python",
      "name": "python",
      "nbconvert_exporter": "python",
      "pygments_lexer": "ipython3",
      "version": "3.8.3"
    },
    "colab": {
      "name": "Assessment2B.ipynb",
      "provenance": []
    }
  },
  "nbformat": 4,
  "nbformat_minor": 0
}